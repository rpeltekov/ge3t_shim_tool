{
 "cells": [
  {
   "cell_type": "markdown",
   "metadata": {},
   "source": [
    "### Trying to understand what happens when you shift center frequency more."
   ]
  },
  {
   "cell_type": "code",
   "execution_count": null,
   "metadata": {},
   "outputs": [],
   "source": [
    "import argparse\n",
    "import signal\n",
    "import subprocess\n",
    "import sys\n",
    "import numpy as np\n",
    "import matplotlib.pyplot as plt\n",
    "import tqdm\n",
    "import time\n",
    "from helpersFunctions import *\n",
    "import ipywidgets as widgets\n",
    "from IPython.display import display, clear_output\n",
    "\n",
    "sys.path.append('..')"
   ]
  },
  {
   "cell_type": "code",
   "execution_count": null,
   "metadata": {},
   "outputs": [],
   "source": [
    "# print out the current path\n",
    "\n",
    "from shimTool.Tool import Tool, ShimMode\n",
    "from shimTool.dicomUtils import *\n",
    "from shimTool.shimCompute import *\n",
    "\n",
    "\n",
    "def load_tool():\n",
    "    if \"tool\" in globals():\n",
    "        del globals()[\"tool\"]\n",
    "    config = load_config(\"/home/heartvista/Documents/robert/ge3t_shim_tool/config.json\")\n",
    "    return Tool(config, debugging=True)\n"
   ]
  },
  {
   "cell_type": "code",
   "execution_count": null,
   "metadata": {},
   "outputs": [],
   "source": [
    "# want to now set an ROI, or lets say look at values only in the 2nd fifth of the image, or also for the whole volume as well\n",
    "def printStats(fieldmap):\n",
    "    std = np.nanstd(fieldmap)\n",
    "    mean = np.nanmean(fieldmap)\n",
    "    print(\"Mean: \", mean)\n",
    "    print(\"Std Dev: \", std)\n",
    "\n",
    "def compare(fieldmap1, fieldmap2):\n",
    "    diff = fieldmap2 - fieldmap1\n",
    "    # get std dev and mean\n",
    "    print(\"Difference Statistics:\")\n",
    "    printStats(diff)\n",
    "    return diff\n"
   ]
  },
  {
   "cell_type": "markdown",
   "metadata": {},
   "source": [
    "# Testing that center frequency knob moves off resonance as expected in the image"
   ]
  },
  {
   "cell_type": "code",
   "execution_count": null,
   "metadata": {},
   "outputs": [],
   "source": [
    "# create a new shim tool object\n",
    "tool = load_tool()"
   ]
  },
  {
   "cell_type": "code",
   "execution_count": null,
   "metadata": {},
   "outputs": [],
   "source": [
    "# want to get a background\n",
    "tool.doCalibrationScan()\n",
    "#tool.exsiInstance.bedPosition = 0\n",
    "tool.doFieldmapScan()\n",
    "background = computeFieldmapFromLatestFieldmapScan(tool)\n"
   ]
  },
  {
   "cell_type": "code",
   "execution_count": null,
   "metadata": {},
   "outputs": [],
   "source": [
    "print(\"Background Fieldmap Stats: \", printStats(background))"
   ]
  },
  {
   "cell_type": "markdown",
   "metadata": {},
   "source": [
    "### Test some one off CF changes"
   ]
  },
  {
   "cell_type": "code",
   "execution_count": null,
   "metadata": {},
   "outputs": [],
   "source": [
    "# want to change the center frequency\n",
    "tool.setCenterFrequency(99)"
   ]
  },
  {
   "cell_type": "code",
   "execution_count": null,
   "metadata": {},
   "outputs": [],
   "source": [
    "# want to acquire another field map\n",
    "tool.doFieldmapScan()\n",
    "actual = computeFieldmapFromLatestFieldmapScan(tool)\n",
    "print(\"Actual Fieldmap Stats: \", printStats(actual))\n"
   ]
  },
  {
   "cell_type": "code",
   "execution_count": null,
   "metadata": {},
   "outputs": [],
   "source": [
    "# whole volume:\n",
    "print(\"Difference between my 2 scan fieldmap background and after change in center frequency:\")\n",
    "diff = compare(background, actual)"
   ]
  },
  {
   "cell_type": "code",
   "execution_count": null,
   "metadata": {},
   "outputs": [],
   "source": [
    "# want to change the center frequency\n",
    "tool.setCenterFrequency(-20)"
   ]
  },
  {
   "cell_type": "code",
   "execution_count": null,
   "metadata": {},
   "outputs": [],
   "source": [
    "# want to acquire another field map\n",
    "tool.doFieldmapScan()\n",
    "actual = computeFieldmapFromLatestFieldmapScan(tool)\n",
    "print(\"Actual Fieldmap Stats: \", printStats(actual))\n"
   ]
  },
  {
   "cell_type": "code",
   "execution_count": null,
   "metadata": {},
   "outputs": [],
   "source": [
    "# whole volume:\n",
    "print(\"Difference between my 2 scan fieldmap background and after change in center frequency:\")\n",
    "diff = compare(background, actual)"
   ]
  },
  {
   "cell_type": "markdown",
   "metadata": {},
   "source": [
    "## Acquire data to show that aggregate center frequency adjustment is reflected in my fieldmaps"
   ]
  },
  {
   "cell_type": "code",
   "execution_count": null,
   "metadata": {},
   "outputs": [],
   "source": [
    "cf_changes = list(range(-300, 301,20))\n",
    "actual_changes = []\n",
    "for change in cf_changes:\n",
    "    print(\"----------------------------------------------------\")\n",
    "    print(f\"Changing center frequency by {change}\")\n",
    "    tool.setCenterFrequency(change)\n",
    "    tool.doFieldmapScan()\n",
    "    actual = computeFieldmapFromLatestFieldmapScan(tool)\n",
    "    print(f\"Actual Fieldmap Stats after changing center frequency by {change}: \")\n",
    "    printStats(actual)\n",
    "    diff = compare(background, actual)\n",
    "    actual_changes.append(np.nanmean(diff))"
   ]
  },
  {
   "cell_type": "markdown",
   "metadata": {},
   "source": [
    "### Note: with a 3.5ms TE, we will see wrapping at ~|140| hz offset from cf "
   ]
  },
  {
   "cell_type": "code",
   "execution_count": null,
   "metadata": {},
   "outputs": [],
   "source": [
    "print(\"Actual Changes: \", actual_changes)\n",
    "print(\"expected Frequency Changes: \", cf_changes)\n",
    "actual_changes = np.array(actual_changes)\n",
    "cf_changes = np.array(cf_changes)\n",
    "\n",
    "difference =  cf_changes - actual_changes\n",
    "print(f\"From the difference of expected - achieved changes in center frequency,\\n\\t absolute error has a mean of {np.mean(difference)} and std dev of: \", np.std(difference))\n",
    "# plot scatter of the actual changes and the expected changes\n",
    "plt.figure(figsize=(15,10))\n",
    "plt.plot(cf_changes, difference)\n",
    "# make the plot extra wide and show every single x point\n",
    "plt.xticks(cf_changes, rotation=90)\n",
    "plt.yticks(range(-300,301,20))\n",
    "plt.grid()\n",
    "plt.title(\"Error of measured mean offresonance after CF changes\")\n",
    "plt.xlabel(\"Applied Center Frequency Adjustment (Hz)\")\n",
    "plt.ylabel(\"Error between desired and observed mean offresonance (Hz)\")\n"
   ]
  },
  {
   "cell_type": "code",
   "execution_count": null,
   "metadata": {},
   "outputs": [],
   "source": [
    "mask = np.abs(cf_changes) < 140\n",
    "\n",
    "subset_cf_changes = cf_changes[mask]\n",
    "subset_difference = difference[mask]\n",
    "\n",
    "plt.figure(figsize=(15,10))\n",
    "plt.plot(subset_cf_changes, subset_difference)\n",
    "# make the plot extra wide and show every single x point\n",
    "plt.xticks(subset_cf_changes, rotation=90)\n",
    "plt.yticks(range(-20,21,2))\n",
    "plt.grid()\n",
    "plt.title(\"Error of measured mean offresonance after CF changes\")\n",
    "plt.xlabel(\"Applied Center Frequency Adjustment (Hz)\")\n",
    "plt.ylabel(\"Error between desired and observed mean offresonance (Hz)\")\n",
    "\n",
    "print(f\"From the difference of expected - achieved changes in center frequency,\\n\\t absolute error has a mean of {np.mean(subset_difference)} and std dev of: \", np.std(subset_difference))"
   ]
  },
  {
   "cell_type": "code",
   "execution_count": null,
   "metadata": {},
   "outputs": [],
   "source": [
    "mask = cf_changes < -140\n",
    "\n",
    "subset_cf_changes = cf_changes[mask]\n",
    "subset_difference = difference[mask]\n",
    "\n",
    "plt.plot(subset_cf_changes, subset_difference)\n",
    "# make the plot extra wide and show every single x point\n",
    "plt.xticks(subset_cf_changes, rotation=90)\n",
    "plt.yticks(range(-290,-260,3))\n",
    "plt.grid()\n",
    "plt.title(\"Error of measured mean offresonance after CF changes\")\n",
    "plt.xlabel(\"Applied Center Frequency Adjustment (Hz)\")\n",
    "plt.ylabel(\"Error between desired and observed mean offresonance (Hz)\")\n",
    "\n",
    "print(f\"From the difference of expected - achieved changes in center frequency,\\n\\t absolute error has a mean of {np.mean(subset_difference)} and std dev of: \", np.std(subset_difference))"
   ]
  },
  {
   "cell_type": "code",
   "execution_count": null,
   "metadata": {},
   "outputs": [],
   "source": [
    "mask = cf_changes > 160\n",
    "\n",
    "subset_cf_changes = cf_changes[mask]\n",
    "subset_difference = difference[mask]\n",
    "\n",
    "plt.plot(subset_cf_changes, subset_difference)\n",
    "# make the plot extra wide and show every single x point\n",
    "plt.xticks(subset_cf_changes, rotation=90)\n",
    "plt.yticks(range(270,300,3))\n",
    "plt.grid()\n",
    "plt.title(\"Error of measured mean offresonance after CF changes\")\n",
    "plt.xlabel(\"Applied Center Frequency Adjustment (Hz)\")\n",
    "plt.ylabel(\"Error between desired and observed mean offresonance (Hz)\")\n",
    "\n",
    "print(f\"From the difference of expected - achieved changes in center frequency,\\n\\t absolute error has a mean of {np.mean(subset_difference)} and std dev of: \", np.std(subset_difference))"
   ]
  },
  {
   "cell_type": "markdown",
   "metadata": {},
   "source": [
    "## get some more fine grain data within the non-wrapping range of cf adjustments"
   ]
  },
  {
   "cell_type": "code",
   "execution_count": null,
   "metadata": {},
   "outputs": [],
   "source": [
    "tool.autoPrescanDone = False\n",
    "tool.doFieldmapScan()\n",
    "background = computeFieldmapFromLatestFieldmapScan(tool)"
   ]
  },
  {
   "cell_type": "code",
   "execution_count": null,
   "metadata": {},
   "outputs": [],
   "source": [
    "print(\"Background Fieldmap Stats: \", printStats(background))\n",
    "background_center = np.nanmean(background).astype(np.int32)\n",
    "print(background_center)"
   ]
  },
  {
   "cell_type": "code",
   "execution_count": null,
   "metadata": {},
   "outputs": [],
   "source": [
    "\n",
    "cf_changes = list(range(-150-background_center, 151-background_center,10))\n",
    "actual_changes = []\n",
    "for change in cf_changes:\n",
    "    print(\"----------------------------------------------------\")\n",
    "    print(f\"Changing center frequency by {change}\")\n",
    "    tool.setCenterFrequency(change)\n",
    "    tool.doFieldmapScan()\n",
    "    actual = computeFieldmapFromLatestFieldmapScan(tool)\n",
    "    print(f\"Actual Fieldmap Stats after changing center frequency by {change}: \")\n",
    "    printStats(actual)\n",
    "    diff = compare(background, actual)\n",
    "    actual_changes.append(np.nanmean(diff))\n",
    "actual_changes = np.array(actual_changes)\n",
    "cf_changes = np.array(cf_changes)\n",
    "print(\"Actual Changes: \", actual_changes)\n",
    "print(\"expected Frequency Changes: \", cf_changes)\n",
    "difference =  cf_changes - actual_changes\n",
    "pint(\"differences: \", difference)\n",
    "print(f\"From the difference of expected - achieved changes in center frequency,\\n\\t absolute error has a mean of {np.mean(difference)} and std dev of: \", np.std(difference))\n",
    "# plot scatter of the actual changes and the expected changes\n",
    "plt.plot(cf_changes, difference)\n",
    "plt.title(\"Error of measured mean offresonance after CF changes\")\n",
    "plt.xlabel(\"Applied Center Frequency Adjustment (Hz)\")\n",
    "plt.ylabel(\"Error between desired and observed mean offresonance (Hz)\")\n",
    "\n"
   ]
  },
  {
   "cell_type": "markdown",
   "metadata": {},
   "source": [
    "### get two scans done with ideal and see if their differences are similar to the differences from my scan..."
   ]
  },
  {
   "cell_type": "code",
   "execution_count": null,
   "metadata": {},
   "outputs": [],
   "source": [
    "# acquire idea fieldmap manually. verify the ideal scans you want are here\n",
    "tool.transferScanData()\n",
    "\n",
    "for subdir in listSubDirs(tool.localExamRootDir):\n",
    "    p = os.path.join(tool.localExamRootDir, subdir)\n",
    "    d = listDicomFiles(p)[0]\n",
    "    print(d)\n",
    "    ds = pydicom.dcmread(d)\n",
    "    print(getattr(ds, 'SeriesDescription'))"
   ]
  },
  {
   "cell_type": "code",
   "execution_count": null,
   "metadata": {},
   "outputs": [],
   "source": [
    "# for each image in the directory, mask it and construct the fieldmap obtained by IDEAL sequence of the background\n",
    "def getDicomArrayFromDir(dicomDir) -> np.ndarray:\n",
    "    dicomArray = []\n",
    "    for img in listDicomFiles(dicomDir):\n",
    "        ds = pydicom.dcmread(img)\n",
    "        dicomArray.append(ds.pixel_array)\n",
    "    return np.stack(dicomArray, axis=0)\n",
    "\n",
    "def getIdealFieldmapFromDir(waterDicomDir, fieldmapDicomDir, threshold=0.5):\n",
    "    water = getDicomArrayFromDir(waterDicomDir).astype(np.float32)\n",
    "    fieldmap = getDicomArrayFromDir(fieldmapDicomDir).astype(np.float32)\n",
    "    mask = water < np.nanmean(water) * threshold\n",
    "    fieldmap[mask] = np.nan\n",
    "    return fieldmap"
   ]
  },
  {
   "cell_type": "code",
   "execution_count": null,
   "metadata": {},
   "outputs": [],
   "source": [
    "waterDicomDirIDEALBackground, FieldmapDicomDirIDEALBackground = listSubDirs(tool.localExamRootDir)[-4:-2]\n",
    "print(waterDicomDirIDEALBackground, FieldmapDicomDirIDEALBackground)\n",
    "background_IDEAL = getIdealFieldmapFromDir(waterDicomDirIDEALBackground, FieldmapDicomDirIDEALBackground, threshold=.4)\n",
    "print(\"'After' Fieldmap IDEAL Stats: \", printStats(background_IDEAL))"
   ]
  },
  {
   "cell_type": "code",
   "execution_count": null,
   "metadata": {},
   "outputs": [],
   "source": [
    "waterDicomDirIDEALAfter, FieldmapDicomDirIDEALAfter = listSubDirs(tool.localExamRootDir)[-2:]\n",
    "print(waterDicomDirIDEALAfter, FieldmapDicomDirIDEALAfter)\n",
    "after_IDEAL = getIdealFieldmapFromDir(waterDicomDirIDEALAfter, FieldmapDicomDirIDEALAfter, threshold=.4)\n",
    "print(\"Background Fieldmap IDEAL Stats: \", printStats(after_IDEAL))"
   ]
  },
  {
   "cell_type": "code",
   "execution_count": null,
   "metadata": {},
   "outputs": [],
   "source": [
    "# whole volume:\n",
    "print(\"Difference between my 2 scan fieldmap background and after change in center frequency:\")\n",
    "diff = compare(background_IDEAL, after_IDEAL)"
   ]
  },
  {
   "cell_type": "markdown",
   "metadata": {},
   "source": [
    "# Testing before and after CF is applied for a specific solution once gradients are applied"
   ]
  },
  {
   "cell_type": "markdown",
   "metadata": {},
   "source": [
    "## Setup"
   ]
  },
  {
   "cell_type": "code",
   "execution_count": null,
   "metadata": {},
   "outputs": [],
   "source": [
    "# from the computed solutions:\n",
    "    #   for a slice on isocenter (slice 31), \n",
    "    #   slice off isocenter (slice 20), \n",
    "    #   the whole volume, \n",
    "    #   and the volume of the ROI, \n",
    "    # apply the shim values and compare the results\n",
    "def applyShimAndCompare(tool: Tool, sliceIdx: int = None):\n",
    "    tool.setCenterFrequency(deltaCF=0)\n",
    "    print(\"Setting gradients only now\")\n",
    "    tool.setLinGradients(deltaLinGrad=tool.getSolutionsToApply(sliceIdx)[1:4])\n",
    "    tool.doFieldmapScan()\n",
    "    before = computeFieldmapFromLatestFieldmapScan(tool)\n",
    "    print(\"Stats of the actual acquired fieldmap after only changing the linear gradients:\\n\", tool.shimStatStrsVolume[2])\n",
    "    print(\"\\nSetting Center frequency now\")\n",
    "    tool.setCenterFrequency(deltaCF=tool.getSolutionsToApply(sliceIdx)[0])\n",
    "    tool.doFieldmapScan()\n",
    "    print(\"Stats of the actual acquired fieldmap after only changing the linear gradients:\\n\", tool.shimStatStrsVolume[2])\n",
    "    after = computeFieldmapFromLatestFieldmapScan(tool)\n",
    "    return before, after\n"
   ]
  },
  {
   "cell_type": "code",
   "execution_count": null,
   "metadata": {},
   "outputs": [],
   "source": [
    "# reset the shim tool object \n",
    "tool = load_tool()"
   ]
  },
  {
   "cell_type": "code",
   "execution_count": null,
   "metadata": {},
   "outputs": [],
   "source": [
    "# acquire a new background\n",
    "tool.doCalibrationScan()\n",
    "tool.doFieldmapScan()\n",
    "background = computeFieldmapFromLatestFieldmapScan(tool)\n",
    "\n",
    "# for viewing purposes\n",
    "tool.getROIBackgound()\n",
    "background_mag = tool.viewData[0]"
   ]
  },
  {
   "cell_type": "code",
   "execution_count": null,
   "metadata": {},
   "outputs": [],
   "source": [
    "# acquire basis maps of the gradients\n",
    "tool.doBasisCalibrationScans()"
   ]
  },
  {
   "cell_type": "markdown",
   "metadata": {},
   "source": [
    "## Volume wise"
   ]
  },
  {
   "cell_type": "code",
   "execution_count": null,
   "metadata": {},
   "outputs": [],
   "source": [
    "tool.setShimMode(ShimMode.VOLUME)\n",
    "tool.recomputeCurrentsAndView()"
   ]
  },
  {
   "cell_type": "code",
   "execution_count": null,
   "metadata": {},
   "outputs": [],
   "source": [
    "print(\"principle sols\", tool.principleSols)\n",
    "print(\"solutions to apply for the volume\", tool.getSolutionsToApply())\n",
    "print(\"\\nstats of the background:\\n\", tool.shimStatStrsVolume[0])\n",
    "print(\"\\nstats for expected:\\n\", tool.shimStatStrsVolume[1])\n",
    "\n"
   ]
  },
  {
   "cell_type": "code",
   "execution_count": null,
   "metadata": {},
   "outputs": [],
   "source": [
    "# Entire Volume\n",
    "beforeCFMoved, afterCFMoved = applyShimAndCompare(tool, None)\n",
    "print('\\n\\n')\n",
    "diff = compare(background, beforeCFMoved)\n",
    "print(\"Comparing background with after CF moved\")\n",
    "diff = compare(background, afterCFMoved)\n",
    "print(\"Comparing before CF moved with after CF moved\")\n",
    "diff = compare(beforeCFMoved, afterCFMoved)"
   ]
  },
  {
   "cell_type": "markdown",
   "metadata": {},
   "source": [
    "## Slice Wise"
   ]
  },
  {
   "cell_type": "code",
   "execution_count": null,
   "metadata": {},
   "outputs": [],
   "source": [
    "tool.setShimMode(ShimMode.SLICE)\n",
    "tool.recomputeCurrentsAndView()"
   ]
  },
  {
   "cell_type": "code",
   "execution_count": null,
   "metadata": {},
   "outputs": [],
   "source": [
    "# for a slice on isocenter\n",
    "# add a slider to select the slice\n",
    "sliceSlider = widgets.IntSlider(description='Slice Idx:', disabled=False)\n",
    "output_widget = widgets.Output()\n",
    "startEvalScan = widgets.Button(description='Start Eval Scan')\n",
    "sliceSlider.max = len(tool.shimStatsPerSlice[0]) - 1  # Update slider range\n",
    "sliceSlider.value = 0  # Reset to first image\n",
    "sliceIdx =  0 \n",
    "\n",
    "\n",
    "# Update the displayed image when the slider value changes\n",
    "def on_slider_value_change(change):\n",
    "    if change['new'] is not None:\n",
    "        sliceIdx = change['new']\n",
    "\n",
    "        # visualize that slice\n",
    "        with output_widget:\n",
    "            clear_output(wait=True)\n",
    "            plt.imshow(background_mag[:,sliceIdx], cmap='gray')\n",
    "            plt.show()\n",
    "\n",
    "            print(\"principle sols\", tool.principleSols)\n",
    "            print(\"solutions to apply for the volume\", tool.getSolutionsToApply(sliceIdx))\n",
    "            print(\"\\nstats of the background:\\n\", tool.shimStatStrsPerSlice[0][sliceIdx])\n",
    "            print(\"\\nstats for expected:\\n\", tool.shimStatStrsPerSlice[1][sliceIdx])\n",
    "\n",
    "def init_slice_eval(b):\n",
    "    with output_widget:\n",
    "        print(\"\\n-------------\")\n",
    "        print(f\"Evaluating results on Slice {sliceSlider.value}\\n\")\n",
    "        beforeCFMoved, afterCFMoved = applyShimAndCompare(tool, sliceSlider.value)\n",
    "\n",
    "        print(\"\\n\\nComparing background with before CF moved\")\n",
    "        diff = compare(background, beforeCFMoved)\n",
    "        print(\"Comparing background with after CF moved\")\n",
    "        diff = compare(background, afterCFMoved)\n",
    "        print(\"Comparing before CF moved with after CF moved\")\n",
    "        diff = compare(beforeCFMoved, afterCFMoved)\n",
    "sliceSlider.observe(on_slider_value_change, names='value')\n",
    "\n",
    "startEvalScan.on_click(init_slice_eval)\n",
    "# Layout the widgets\n",
    "widgets_layout = widgets.VBox([sliceSlider, startEvalScan, output_widget])\n",
    "display(widgets_layout)\n"
   ]
  },
  {
   "cell_type": "markdown",
   "metadata": {},
   "source": [
    "## Volume with specific ROI"
   ]
  },
  {
   "cell_type": "code",
   "execution_count": null,
   "metadata": {},
   "outputs": [],
   "source": [
    "# volume of the ROI\n",
    "tool.setShimMode(ShimMode.VOLUME)\n",
    "\n",
    "# somehow set an ROI that makes sense to you... it would be nice to be able to spawn the gui and select the ROI manually...that would be cool... \n",
    "# for now, lets just set a circle in the center of the image\n",
    "ydim, zdim, xdim = tool.viewData[0].shape\n",
    "tool.ROI.setROILimits(xdim, ydim, zdim)\n",
    "tool.ROI.sizes[0] = max(1, round((tool.ROI.xdim // 2) * .35))\n",
    "tool.ROI.sizes[1] = max(1, round((tool.ROI.ydim // 2) * .25))\n",
    "tool.ROI.sizes[2] = max(1, round((tool.ROI.zdim // 2) * .15))\n",
    "tool.ROI.centers[0] = round(tool.ROI.xdim * .5)\n",
    "tool.ROI.centers[1] = round(tool.ROI.ydim * .45)\n",
    "tool.ROI.centers[2] = round(tool.ROI.zdim * .75)\n",
    "tool.ROI.enabled = True\n",
    "tool.ROI.updated = True\n",
    "tool.computeMask()\n",
    "tool.recomputeCurrentsAndView()\n",
    "tool.cropViewDataToFinalMask()"
   ]
  },
  {
   "cell_type": "code",
   "execution_count": null,
   "metadata": {},
   "outputs": [],
   "source": [
    "background_cropped = np.copy(background_mag).astype(np.float32)\n",
    "background_cropped[~tool.finalMask] = np.nan"
   ]
  },
  {
   "cell_type": "code",
   "execution_count": null,
   "metadata": {},
   "outputs": [],
   "source": [
    "# for a slice on isocenter\n",
    "# add a slider to select the slice\n",
    "sliceSlider = widgets.IntSlider(description='Slice Idx:', disabled=False)\n",
    "output_widget = widgets.Output()\n",
    "sliceSlider.max = len(tool.shimStatsPerSlice[0]) - 1  # Update slider range\n",
    "sliceSlider.value = 0  # Reset to first image\n",
    "sliceIdx =  0 \n",
    "\n",
    "\n",
    "# Update the displayed image when the slider value changes\n",
    "def on_slider_value_change(change):\n",
    "    if change['new'] is not None:\n",
    "        sliceIdx = change['new']\n",
    "\n",
    "        # visualize that slice\n",
    "        with output_widget:\n",
    "            clear_output(wait=True)\n",
    "            plt.imshow(background_cropped[:,sliceIdx], cmap='gray')\n",
    "            plt.show()\n",
    "\n",
    "            print(\"principle sols\", tool.principleSols)\n",
    "            print(\"solutions to apply for the volume\", tool.getSolutionsToApply(sliceIdx))\n",
    "            print(\"\\nstats of the background:\\n\", tool.getSolutionStrings(0))\n",
    "            print(\"\\nstats for expected:\\n\", tool.getSolutionStrings(1))\n",
    "\n",
    "sliceSlider.observe(on_slider_value_change, names='value')\n",
    "\n",
    "# Layout the widgets\n",
    "widgets_layout = widgets.VBox([sliceSlider, output_widget])\n",
    "display(widgets_layout)\n"
   ]
  },
  {
   "cell_type": "code",
   "execution_count": null,
   "metadata": {},
   "outputs": [],
   "source": [
    "# for a slice on isocenter\n",
    "# add a slider to select the slice\n",
    "startEvalScan = widgets.Button(description='Start Eval Scan')\n",
    "output_widget = widgets.Output()\n",
    "\n",
    "def init_slice_eval(b):\n",
    "    with output_widget:\n",
    "        print(\"\\n-------------\")\n",
    "        print(f\"Evaluating results on ROI\")\n",
    "        beforeCFMoved, afterCFMoved = applyShimAndCompare(tool, None)\n",
    "\n",
    "        print(\"\\n\\nComparing background with before CF moved\")\n",
    "        diff = compare(background, beforeCFMoved)\n",
    "        print(\"Comparing background with after CF moved\")\n",
    "        diff = compare(background, afterCFMoved)\n",
    "        print(\"Comparing before CF moved with after CF moved\")\n",
    "        diff = compare(beforeCFMoved, afterCFMoved)\n",
    "\n",
    "startEvalScan.on_click(init_slice_eval)\n",
    "# Layout the widgets\n",
    "widgets_layout = widgets.VBox([startEvalScan, output_widget])\n",
    "display(widgets_layout)\n"
   ]
  },
  {
   "cell_type": "markdown",
   "metadata": {},
   "source": [
    "## Looking to evaluate the gradients and how they get applied one by one..."
   ]
  },
  {
   "cell_type": "code",
   "execution_count": null,
   "metadata": {},
   "outputs": [],
   "source": [
    "def applyGradients1by1(tool: Tool, sliceIdx= None):\n",
    "    tool.setCenterFrequency(deltaCF=0)\n",
    "    print(\"Setting gradients only now\")\n",
    "    \n",
    "    deltaLinGrad=tool.getSolutionsToApply(sliceIdx)[1:4]\n",
    "    linGradSol= tool.getSolutions(sliceIdx)[1:4]\n",
    "\n",
    "    label = [\"x\", \"y\", \"z\"]\n",
    "    appliedGradientsResults = []\n",
    "    expectedGradientResults = []\n",
    "    differences = []\n",
    "    for i in range(3):\n",
    "        print(f\"Setting {label[i]} gradient only now\")\n",
    "        lingrad = np.zeros(3)\n",
    "        lingrad[i] = deltaLinGrad[i]\n",
    "        if i == 1:\n",
    "            lingrad[1] = - lingrad[1]\n",
    "        tool.setLinGradients(deltaLinGrad=lingrad)\n",
    "        tool.doFieldmapScan()\n",
    "        appliedGradientsResults.append(computeFieldmapFromLatestFieldmapScan(tool))\n",
    "        expectedGradientResults.append(tool.basisB0maps[i]*linGradSol[i] + background)\n",
    "        print(f\"Stats of the actual acquired fieldmap after only changing the {label[i]} linear gradients:\\n\", tool.shimStatStrsVolume[2])\n",
    "        print(f\"\\n Comparing expected - applied results for gradient {label[i]}\")\n",
    "        differences.append(compare(expectedGradientResults[i], appliedGradientsResults[i]))\n",
    "    return expectedGradientResults, appliedGradientsResults, differences"
   ]
  },
  {
   "cell_type": "markdown",
   "metadata": {},
   "source": [
    "### Volume wise"
   ]
  },
  {
   "cell_type": "code",
   "execution_count": null,
   "metadata": {},
   "outputs": [],
   "source": [
    "# for a slice on isocenter\n",
    "# add a slider to select the slice\n",
    "output_widget = widgets.Output()\n",
    "startEvalScan = widgets.Button(description='Start Eval Scan')\n",
    "\n",
    "def init_slice_eval(b):\n",
    "    with output_widget:\n",
    "        print(\"\\n-------------\")\n",
    "        print(f\"Evaluating results on Volume\\n\")\n",
    "        expectedEach, appliedEach, differences = applyGradients1by1(tool, None)\n",
    "\n",
    "sliceSlider.observe(on_slider_value_change, names='value')\n",
    "\n",
    "startEvalScan.on_click(init_slice_eval)\n",
    "# Layout the widgets\n",
    "widgets_layout = widgets.VBox([startEvalScan, output_widget])\n",
    "display(widgets_layout)"
   ]
  },
  {
   "cell_type": "markdown",
   "metadata": {},
   "source": [
    "## Determining why the y gradient is acting funky..."
   ]
  },
  {
   "cell_type": "code",
   "execution_count": null,
   "metadata": {},
   "outputs": [],
   "source": [
    "def plotPixelFieldStrengthsVsPosition(title, points, xlabel, ylabel, xlim, ylim):\n",
    "    plt.scatter(points[:,0], points[:,1])\n",
    "    plt.title(title)\n",
    "    plt.xlabel(xlabel)\n",
    "    plt.ylabel(ylabel)\n",
    "    plt.xlim(xlim)\n",
    "    plt.ylim(ylim)\n",
    "\n",
    "def getFieldStrengthPoints(fieldmap, c, pixelSize, fovCenter=[0,0,0], title=None):\n",
    "    \"\"\"\n",
    "    for one dimensional direction:\n",
    "        - collapse all strengths onto one dimension\n",
    "        - compute the relative distance for each pixel position using pixelSize\n",
    "        - create list of points (distanceFromIsocenter, fieldStrength)\n",
    "        - plot the points\n",
    "        - plot a line of best fit\n",
    "    \"\"\"\n",
    "    points = [[],[],[]]\n",
    "    # i want to take every non nan pixel value in the fieldmap\n",
    "    # then for each pixel, get the distance from fovCenter, and the field strength and add to points list\n",
    "    def get_distances(pos):\n",
    "        shape = fieldmap.shape\n",
    "        ret = []\n",
    "        for i in range(3):\n",
    "            ret.append((pos[i] - (shape[i]/2+.5)) * pixelSize[i] + fovCenter[i])\n",
    "        return ret\n",
    "\n",
    "    maxDist=0\n",
    "    for y in range(fieldmap.shape[0]):\n",
    "        for z in range(fieldmap.shape[1]):\n",
    "            for x in range(fieldmap.shape[2]):\n",
    "                if not np.isnan(fieldmap[y,z,x]):\n",
    "                    fieldStrength = fieldmap[y,z,x]\n",
    "                    distances = get_distances([y,z,x])\n",
    "                    maxDist = max(maxDist, np.max(np.abs(distances)))\n",
    "                    for i in range(3):\n",
    "                        points[i].append([distances[i], fieldStrength])\n",
    "\n",
    "    if title is not None:\n",
    "        directions = [\"Y\", \"Z\", \"X\"]\n",
    "        absheight=0\n",
    "        for i in range(3):\n",
    "            points[i] = np.array(points[i])\n",
    "            absheight = max(absheight, np.nanmax(np.abs(points[i][:,1])))\n",
    "\n",
    "        i = c\n",
    "        plotPixelFieldStrengthsVsPosition(\n",
    "            f\"{title} Gradient Field Strength (Hz) vs Distance (mm) Isocenter in {directions[i]}\", \n",
    "            points[i], \n",
    "            \"Distance from Isocenter (mm)\", \n",
    "            \"Field Strength (Hz)\", \n",
    "            [-maxDist, maxDist], \n",
    "            [-absheight, absheight]\n",
    "            )\n",
    "        plt.show()\n",
    "    return [points[2], points[0], points[1]]\n",
    "\n",
    "points = getFieldStrengthPoints(tool.basisB0maps[1], 0, [3,3,3], title=\"Y basis map\")\n",
    "points = getFieldStrengthPoints(tool.basisB0maps[0], 2, [3,3,3], title=\"X basis map\")\n",
    "points = getFieldStrengthPoints(tool.basisB0maps[2], 1, [3,3,3], title=\"Z basis map\")"
   ]
  },
  {
   "cell_type": "markdown",
   "metadata": {},
   "source": [
    "## Need to evaluate how the y gradient basis map is being acquired"
   ]
  },
  {
   "cell_type": "code",
   "execution_count": null,
   "metadata": {},
   "outputs": [],
   "source": [
    "for i in range(20,100, 20):\n",
    "    print(f\"Applying y gradient at {i} ticks\")\n",
    "    tool.setCenterFrequency(0)\n",
    "    tool.setLinGradients([0,i,0])\n",
    "    tool.doFieldmapScan()\n",
    "    basisRaw = computeFieldmapFromLatestFieldmapScan(tool)\n",
    "    basis = basisRaw - background\n",
    "    points = getFieldStrengthPoints(basis, 0, [3,3,3], title=\"Y basis map with gradient at {i}\")"
   ]
  },
  {
   "cell_type": "markdown",
   "metadata": {},
   "source": [
    "### Stability test for ticks around 40-70"
   ]
  },
  {
   "cell_type": "code",
   "execution_count": null,
   "metadata": {},
   "outputs": [],
   "source": [
    "\n",
    "for i in range(50,71,10):\n",
    "    for j in range(3):\n",
    "        print(f\"Applying y gradient at {i} ticks\")\n",
    "        tool.setCenterFrequency(0)\n",
    "        tool.setLinGradients([0,i,0])\n",
    "        tool.doFieldmapScan()\n",
    "        basisRaw = computeFieldmapFromLatestFieldmapScan(tool)\n",
    "        basis = basisRaw - background\n",
    "        points = getFieldStrengthPoints(basis, 0, [3,3,3], title=f\"Y basis map with gradient at {i}\")"
   ]
  },
  {
   "cell_type": "markdown",
   "metadata": {},
   "source": [
    "### Slice wise"
   ]
  },
  {
   "cell_type": "code",
   "execution_count": null,
   "metadata": {},
   "outputs": [],
   "source": [
    "# for a slice on isocenter\n",
    "# add a slider to select the slice\n",
    "sliceSlider = widgets.IntSlider(description='Slice Idx:', disabled=False)\n",
    "output_widget = widgets.Output()\n",
    "startEvalScan = widgets.Button(description='Start Eval Scan')\n",
    "sliceSlider.max = len(tool.shimStatsPerSlice[0]) - 1  # Update slider range\n",
    "sliceSlider.value = 0  # Reset to first image\n",
    "sliceIdx =  0 \n",
    "\n",
    "\n",
    "# Update the displayed image when the slider value changes\n",
    "def on_slider_value_change(change):\n",
    "    if change['new'] is not None:\n",
    "        sliceIdx = change['new']\n",
    "\n",
    "        # visualize that slice\n",
    "        with output_widget:\n",
    "            clear_output(wait=True)\n",
    "            plt.imshow(background_mag[:,sliceIdx], cmap='gray')\n",
    "            plt.show()\n",
    "\n",
    "            print(\"principle sols\", tool.principleSols)\n",
    "            print(\"solutions to apply for the volume\", tool.getSolutionsToApply(sliceIdx))\n",
    "            print(\"\\nstats of the background:\\n\", tool.shimStatStrsPerSlice[0][sliceIdx])\n",
    "            print(\"\\nstats for expected:\\n\", tool.shimStatStrsPerSlice[1][sliceIdx])\n",
    "\n",
    "def init_slice_eval(b):\n",
    "    with output_widget:\n",
    "        print(\"\\n-------------\")\n",
    "        print(f\"Evaluating results on Slice {sliceSlider.value}\\n\")\n",
    "        beforeCFMoved, afterCFMoved = applyShimAndCompare(tool, sliceSlider.value)\n",
    "\n",
    "        print(\"\\n\\nComparing background with before CF moved\")\n",
    "        diff = compare(background, beforeCFMoved)\n",
    "        print(\"Comparing background with after CF moved\")\n",
    "        diff = compare(background, afterCFMoved)\n",
    "        print(\"Comparing before CF moved with after CF moved\")\n",
    "        diff = compare(beforeCFMoved, afterCFMoved)\n",
    "sliceSlider.observe(on_slider_value_change, names='value')\n",
    "\n",
    "startEvalScan.on_click(init_slice_eval)\n",
    "# Layout the widgets\n",
    "widgets_layout = widgets.VBox([sliceSlider, startEvalScan, output_widget])\n",
    "display(widgets_layout)"
   ]
  },
  {
   "cell_type": "code",
   "execution_count": null,
   "metadata": {},
   "outputs": [],
   "source": []
  }
 ],
 "metadata": {
  "kernelspec": {
   "display_name": "base",
   "language": "python",
   "name": "python3"
  },
  "language_info": {
   "codemirror_mode": {
    "name": "ipython",
    "version": 3
   },
   "file_extension": ".py",
   "mimetype": "text/x-python",
   "name": "python",
   "nbconvert_exporter": "python",
   "pygments_lexer": "ipython3",
   "version": "3.9.18"
  }
 },
 "nbformat": 4,
 "nbformat_minor": 2
}

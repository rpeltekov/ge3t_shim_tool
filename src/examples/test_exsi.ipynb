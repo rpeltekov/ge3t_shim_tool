{
 "cells": [
  {
   "cell_type": "markdown",
   "metadata": {},
   "source": [
    "### Example code to show how to use the exsi client independently from a jupyter notebook"
   ]
  },
  {
   "cell_type": "code",
   "execution_count": 1,
   "metadata": {},
   "outputs": [],
   "source": [
    "import os\n",
    "import sys\n",
    "import json\n",
    "\n",
    "# Add the parent directory to the Python path\n",
    "sys.path.append(os.path.abspath(os.path.join(os.path.abspath(''), '..')))\n",
    "\n",
    "from shimTool.exsiProcess import *\n",
    "\n",
    "def load_config(filename):\n",
    "    with open(filename, 'r') as file:\n",
    "        return json.load(file)"
   ]
  },
  {
   "cell_type": "markdown",
   "metadata": {},
   "source": [
    "#### first load the exsi client and wait for it to connect"
   ]
  },
  {
   "cell_type": "code",
   "execution_count": 3,
   "metadata": {},
   "outputs": [
    {
     "name": "stdout",
     "output_type": "stream",
     "text": [
      "INFO EXSI CLIENT: Socket connected\n",
      "EXSI CLIENT DEBUG: Processing command:  ConnectToScanner product=newHV passwd=rTpAtD\n",
      "EXSI CLIENT DEBUG: Processing command:  NotifyEvent all=on\n",
      "EXSI CLIENT DEBUG: Processing command:  GetExamInfo\n"
     ]
    },
    {
     "data": {
      "text/plain": [
       "True"
      ]
     },
     "execution_count": 3,
     "metadata": {},
     "output_type": "execute_result"
    }
   ],
   "source": [
    "config = load_config('../config.json')\n",
    "\n",
    "# Make a sample EXSI class instance\n",
    "# The requireExsiConnection decorator will check if the connection is ready before executing any exsi functionality.\n",
    "exsi_instance = exsi(config)\n",
    "exsi_instance.connected_ready_event.wait() # wait for the scanner to be connected"
   ]
  },
  {
   "cell_type": "markdown",
   "metadata": {},
   "source": [
    "#### now you can queue commands to it and have it execute actions on the scanner as soon as the scanner is available.\n",
    "##### do note that if you want to access variables from the exsiClient that get set after some command executes, you will have to use the relevant condition variables to sync up with when that event actually occurs. below is an example of getting the task keys that are set by a specific protocol \"BPT_EXSI\""
   ]
  },
  {
   "cell_type": "code",
   "execution_count": 4,
   "metadata": {},
   "outputs": [
    {
     "name": "stdout",
     "output_type": "stream",
     "text": [
      "EXSI CLIENT DEBUG: Loading protocol BPT_EXSI\n",
      "tasks: [103, 104, 105, 106, 107, 108, 109, 110, 111, 112, 113]\n",
      "Localizer scan loaded\n"
     ]
    },
    {
     "name": "stdout",
     "output_type": "stream",
     "text": [
      "EXSI CLIENT DEBUG: Processing command:  LoadProtocol site path=\"BPT_EXSI\"\n",
      "EXSI CLIENT DEBUG: Task keys found in message:  [103, 104, 105, 106, 107, 108, 109, 110, 111, 112, 113]\n",
      "EXSI CLIENT DEBUG: Processing command:  SelectTask taskkey=103\n",
      "EXSI CLIENT DEBUG: Processing command:  SelectTask taskkey=104\n"
     ]
    }
   ],
   "source": [
    "# Load protocol and get task keys\n",
    "protocol_name = \"BPT_EXSI\"\n",
    "exsi_instance.sendLoadProtocol(protocol_name)\n",
    "exsi_instance.send_event.wait() # wait for a command to be sent to scanner\n",
    "exsi_instance.ready_event.wait()# wait for scanner to return success response of the last command\n",
    "# use exsi_instance.sendWaitForImagesCollected() to wait for images to be collected on the scanner\n",
    "print(f\"tasks: {exsi_instance.taskKeys}\")\n",
    "\n",
    "print('Localizer scan loaded')\n",
    "# Run localizer\n",
    "exsi_instance.sendSelTask() # this queues the next task in line, it pops the task off a queue that is created when protocol is loaded\n",
    "exsi_instance.sendSelTask()\n",
    "\n",
    "#... add commands as you like"
   ]
  },
  {
   "cell_type": "markdown",
   "metadata": {},
   "source": [
    "## This is for multi processing, but it like doesn't really work so i dunno maybe should remove this."
   ]
  },
  {
   "cell_type": "code",
   "execution_count": null,
   "metadata": {},
   "outputs": [],
   "source": [
    "process, request_queue, response_queue, parent_pipe, stop_event = start_exsi_client()\n",
    "\n",
    "stdout_thread = threading.Thread(target=read_stdout, args=(parent_pipe,))\n",
    "stdout_thread.daemon = True\n",
    "stdout_thread.start()\n",
    "\n",
    "# result = call_method(request_queue, response_queue, 'sendGetExamInfo')\n",
    "# print(\"Result:\", result)\n",
    "\n",
    "result = call_method(request_queue, response_queue, 'sendLoadProtocol', 'BPT_EXSI')\n",
    "print(\"Result:\", result)"
   ]
  },
  {
   "cell_type": "code",
   "execution_count": null,
   "metadata": {},
   "outputs": [],
   "source": [
    "result = call_method(request_queue, response_queue, 'sendLoadProtocol', 'BPT_EXSI')\n",
    "print(\"Result:\", result)"
   ]
  },
  {
   "cell_type": "code",
   "execution_count": null,
   "metadata": {},
   "outputs": [],
   "source": [
    "\n",
    "\n",
    "stop_event.set()\n",
    "process.join()\n",
    "parent_pipe.close()"
   ]
  }
 ],
 "metadata": {
  "kernelspec": {
   "display_name": "base",
   "language": "python",
   "name": "python3"
  },
  "language_info": {
   "codemirror_mode": {
    "name": "ipython",
    "version": 3
   },
   "file_extension": ".py",
   "mimetype": "text/x-python",
   "name": "python",
   "nbconvert_exporter": "python",
   "pygments_lexer": "ipython3",
   "version": "3.9.18"
  }
 },
 "nbformat": 4,
 "nbformat_minor": 2
}
